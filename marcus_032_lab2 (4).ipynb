{
  "cells": [
    {
      "cell_type": "code",
      "execution_count": null,
      "metadata": {
        "id": "cZ-T5rQPeNyZ",
        "outputId": "b6d841ed-f5f8-4dee-9820-10a9aa94ea72"
      },
      "outputs": [
        {
          "name": "stdout",
          "output_type": "stream",
          "text": [
            "Note: you may need to restart the kernel to use updated packages.\n"
          ]
        },
        {
          "name": "stderr",
          "output_type": "stream",
          "text": [
            "ERROR: Could not find a version that satisfies the requirement lanchain-groq (from versions: none)\n",
            "ERROR: No matching distribution found for lanchain-groq\n"
          ]
        }
      ],
      "source": [
        "pip install lanchain-groq"
      ]
    },
    {
      "cell_type": "code",
      "execution_count": null,
      "metadata": {
        "id": "FNFTFLCzeNye",
        "outputId": "e6ee90e8-2f64-422f-8cad-218b00f1a363"
      },
      "outputs": [
        {
          "name": "stdout",
          "output_type": "stream",
          "text": [
            "Requirement already satisfied: langchain in c:\\users\\nandh\\onedrive\\desktop\\lab_2\\venv\\lib\\site-packages (0.2.7)\n",
            "Requirement already satisfied: PyYAML>=5.3 in c:\\users\\nandh\\onedrive\\desktop\\lab_2\\venv\\lib\\site-packages (from langchain) (6.0.1)\n",
            "Requirement already satisfied: SQLAlchemy<3,>=1.4 in c:\\users\\nandh\\onedrive\\desktop\\lab_2\\venv\\lib\\site-packages (from langchain) (2.0.31)\n",
            "Requirement already satisfied: aiohttp<4.0.0,>=3.8.3 in c:\\users\\nandh\\onedrive\\desktop\\lab_2\\venv\\lib\\site-packages (from langchain) (3.9.5)\n",
            "Requirement already satisfied: langchain-core<0.3.0,>=0.2.12 in c:\\users\\nandh\\onedrive\\desktop\\lab_2\\venv\\lib\\site-packages (from langchain) (0.2.12)\n",
            "Requirement already satisfied: langchain-text-splitters<0.3.0,>=0.2.0 in c:\\users\\nandh\\onedrive\\desktop\\lab_2\\venv\\lib\\site-packages (from langchain) (0.2.2)\n",
            "Requirement already satisfied: langsmith<0.2.0,>=0.1.17 in c:\\users\\nandh\\onedrive\\desktop\\lab_2\\venv\\lib\\site-packages (from langchain) (0.1.84)\n",
            "Requirement already satisfied: numpy<2.0.0,>=1.26.0 in c:\\users\\nandh\\onedrive\\desktop\\lab_2\\venv\\lib\\site-packages (from langchain) (1.26.4)\n",
            "Requirement already satisfied: pydantic<3,>=1 in c:\\users\\nandh\\onedrive\\desktop\\lab_2\\venv\\lib\\site-packages (from langchain) (2.8.2)\n",
            "Requirement already satisfied: requests<3,>=2 in c:\\users\\nandh\\onedrive\\desktop\\lab_2\\venv\\lib\\site-packages (from langchain) (2.32.3)\n",
            "Requirement already satisfied: tenacity!=8.4.0,<9.0.0,>=8.1.0 in c:\\users\\nandh\\onedrive\\desktop\\lab_2\\venv\\lib\\site-packages (from langchain) (8.5.0)\n",
            "Requirement already satisfied: aiosignal>=1.1.2 in c:\\users\\nandh\\onedrive\\desktop\\lab_2\\venv\\lib\\site-packages (from aiohttp<4.0.0,>=3.8.3->langchain) (1.3.1)\n",
            "Requirement already satisfied: attrs>=17.3.0 in c:\\users\\nandh\\onedrive\\desktop\\lab_2\\venv\\lib\\site-packages (from aiohttp<4.0.0,>=3.8.3->langchain) (23.2.0)\n",
            "Requirement already satisfied: frozenlist>=1.1.1 in c:\\users\\nandh\\onedrive\\desktop\\lab_2\\venv\\lib\\site-packages (from aiohttp<4.0.0,>=3.8.3->langchain) (1.4.1)\n",
            "Requirement already satisfied: multidict<7.0,>=4.5 in c:\\users\\nandh\\onedrive\\desktop\\lab_2\\venv\\lib\\site-packages (from aiohttp<4.0.0,>=3.8.3->langchain) (6.0.5)\n",
            "Requirement already satisfied: yarl<2.0,>=1.0 in c:\\users\\nandh\\onedrive\\desktop\\lab_2\\venv\\lib\\site-packages (from aiohttp<4.0.0,>=3.8.3->langchain) (1.9.4)\n",
            "Requirement already satisfied: jsonpatch<2.0,>=1.33 in c:\\users\\nandh\\onedrive\\desktop\\lab_2\\venv\\lib\\site-packages (from langchain-core<0.3.0,>=0.2.12->langchain) (1.33)\n",
            "Requirement already satisfied: packaging<25,>=23.2 in c:\\users\\nandh\\onedrive\\desktop\\lab_2\\venv\\lib\\site-packages (from langchain-core<0.3.0,>=0.2.12->langchain) (24.1)\n",
            "Requirement already satisfied: orjson<4.0.0,>=3.9.14 in c:\\users\\nandh\\onedrive\\desktop\\lab_2\\venv\\lib\\site-packages (from langsmith<0.2.0,>=0.1.17->langchain) (3.10.6)\n",
            "Requirement already satisfied: annotated-types>=0.4.0 in c:\\users\\nandh\\onedrive\\desktop\\lab_2\\venv\\lib\\site-packages (from pydantic<3,>=1->langchain) (0.7.0)\n",
            "Requirement already satisfied: pydantic-core==2.20.1 in c:\\users\\nandh\\onedrive\\desktop\\lab_2\\venv\\lib\\site-packages (from pydantic<3,>=1->langchain) (2.20.1)\n",
            "Requirement already satisfied: typing-extensions>=4.6.1 in c:\\users\\nandh\\onedrive\\desktop\\lab_2\\venv\\lib\\site-packages (from pydantic<3,>=1->langchain) (4.12.2)\n",
            "Requirement already satisfied: charset-normalizer<4,>=2 in c:\\users\\nandh\\onedrive\\desktop\\lab_2\\venv\\lib\\site-packages (from requests<3,>=2->langchain) (3.3.2)\n",
            "Requirement already satisfied: idna<4,>=2.5 in c:\\users\\nandh\\onedrive\\desktop\\lab_2\\venv\\lib\\site-packages (from requests<3,>=2->langchain) (3.7)\n",
            "Requirement already satisfied: urllib3<3,>=1.21.1 in c:\\users\\nandh\\onedrive\\desktop\\lab_2\\venv\\lib\\site-packages (from requests<3,>=2->langchain) (2.2.2)\n",
            "Requirement already satisfied: certifi>=2017.4.17 in c:\\users\\nandh\\onedrive\\desktop\\lab_2\\venv\\lib\\site-packages (from requests<3,>=2->langchain) (2024.7.4)\n",
            "Requirement already satisfied: greenlet!=0.4.17 in c:\\users\\nandh\\onedrive\\desktop\\lab_2\\venv\\lib\\site-packages (from SQLAlchemy<3,>=1.4->langchain) (3.0.3)\n",
            "Requirement already satisfied: jsonpointer>=1.9 in c:\\users\\nandh\\onedrive\\desktop\\lab_2\\venv\\lib\\site-packages (from jsonpatch<2.0,>=1.33->langchain-core<0.3.0,>=0.2.12->langchain) (3.0.0)\n",
            "Note: you may need to restart the kernel to use updated packages.\n"
          ]
        }
      ],
      "source": [
        "pip install langchain"
      ]
    },
    {
      "cell_type": "code",
      "execution_count": null,
      "metadata": {
        "id": "h5t9emzyeNye",
        "outputId": "ee969513-07b6-463a-b279-36eae457d653"
      },
      "outputs": [
        {
          "name": "stdout",
          "output_type": "stream",
          "text": [
            "Note: you may need to restart the kernel to use updated packages.\n"
          ]
        },
        {
          "name": "stderr",
          "output_type": "stream",
          "text": [
            "ERROR: Could not find a version that satisfies the requirement python (from versions: none)\n",
            "ERROR: No matching distribution found for python\n"
          ]
        }
      ],
      "source": [
        "pip install python load_dotenv"
      ]
    },
    {
      "cell_type": "code",
      "execution_count": null,
      "metadata": {
        "id": "wQAqHKf5eNyf"
      },
      "outputs": [],
      "source": [
        "from dotenv import load_dotenv\n",
        "from langchain.prompts import PromptTemplate\n",
        "from langchain_core.output_parsers import StrOutputParser\n",
        "from langchain_groq import ChatGroq\n",
        "import os"
      ]
    },
    {
      "cell_type": "code",
      "execution_count": null,
      "metadata": {
        "id": "OPmOjeGgeNyi",
        "outputId": "91378524-cfc5-46b2-db6a-4f3beb68d347"
      },
      "outputs": [
        {
          "name": "stdout",
          "output_type": "stream",
          "text": [
            "None\n"
          ]
        }
      ],
      "source": [
        "load_dotenv()\n",
        "GROQ_API_KEY = \"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\"\n",
        "# Retrieve the API key from the environment variable\n",
        "api_key = os.getenv('GROQ_API_KEY')\n",
        "\n",
        "# Print the API key to ensure it is loaded correctly (for debugging purposes, remove this in production)\n",
        "print(api_key)"
      ]
    },
    {
      "cell_type": "code",
      "execution_count": null,
      "metadata": {
        "id": "lKrXHrtweNyj"
      },
      "outputs": [],
      "source": [
        "model = ChatGroq(api_key = GROQ_API_KEY,model_name = 'gemma-7b-it')"
      ]
    },
    {
      "cell_type": "code",
      "execution_count": null,
      "metadata": {
        "id": "PqK_H28ceNyj",
        "outputId": "c5bfb903-cfeb-4b3d-fdeb-acef4a887f96"
      },
      "outputs": [
        {
          "data": {
            "text/plain": [
              "'**A tree** is a large, woody plant with a single, tall trunk and a spreading canopy of branches.\\n\\n**Characteristics of a tree:**\\n\\n* **Woody stems:** Trees have trunks and branches made of woody tissue, which provides structural support.\\n* **Height:** Trees typically grow to a height of at least 10 meters (33 feet).\\n* **Canopy:** Trees have a broad canopy of leaves that covers the ground beneath.\\n* **Roots:** Trees have extensive root systems that anchor them in the ground and absorb water and nutrients.\\n* **Secondary growth:** Trees exhibit secondary growth, meaning they can regenerate new branches and leaves from existing structures.\\n\\n**Types of trees:**\\n\\nThere are countless species of trees, belonging to various genera and families. Some common types include:\\n\\n* Deciduous trees: Lose their leaves in autumn.\\n* Evergreen trees: Keep their leaves throughout the year.\\n* Flowering trees: Produce flowers and fruit.\\n* Fruit trees: Produce edible or non-edible fruits.\\n* Shade trees: Provide shade and are often planted for aesthetic purposes.\\n\\n**Importance of trees:**\\n\\nTrees play vital roles in various aspects of the ecosystem and human life:\\n\\n* **Habitat:** Provide shelter and sustenance to countless animals and plants.\\n* **Oxygen production:** Absorb carbon dioxide and release oxygen into the atmosphere.\\n* **Climate regulation:** Absorb rainwater and release moisture through transpiration.\\n* **Erosion control:** Roots help prevent soil erosion.\\n* **Economic benefits:** Provide timber, fuelwood, and other valuable resources.\\n* **Aesthetic value:** Contribute to aesthetic beauty and provide recreational opportunities.'"
            ]
          },
          "execution_count": 17,
          "metadata": {},
          "output_type": "execute_result"
        }
      ],
      "source": [
        "parser = StrOutputParser()\n",
        "chain = model | parser\n",
        "chain.invoke('what is tree')"
      ]
    },
    {
      "cell_type": "code",
      "execution_count": null,
      "metadata": {
        "id": "3Wau2heBeNyk"
      },
      "outputs": [],
      "source": [
        "template = (\n",
        "    \"\"\"\n",
        "    you're question answering expert\n",
        "answer : {answer}\n",
        "\"\"\"\n",
        ")"
      ]
    },
    {
      "cell_type": "code",
      "execution_count": null,
      "metadata": {
        "id": "gTsPAwKleNyl"
      },
      "outputs": [],
      "source": [
        "prompt = PromptTemplate.from_template(template=template)\n"
      ]
    },
    {
      "cell_type": "code",
      "execution_count": null,
      "metadata": {
        "id": "oAmKaliPeNyl"
      },
      "outputs": [],
      "source": [
        "chain =  prompt | model | parser"
      ]
    },
    {
      "cell_type": "code",
      "execution_count": null,
      "metadata": {
        "id": "TZisTwlueNym"
      },
      "outputs": [],
      "source": [
        "# answer = \"\"\"\n",
        "# tell me about football\n",
        "# \"\"\""
      ]
    },
    {
      "cell_type": "code",
      "execution_count": null,
      "metadata": {
        "id": "_wfBJbOAeNym",
        "outputId": "9a30f14f-c591-4659-b76f-db90c8b8d38a"
      },
      "outputs": [
        {
          "name": "stdout",
          "output_type": "stream",
          "text": [
            "## Football: A Game of Power and Strategy\n",
            "\n",
            "Football is a contact sport where two teams compete to score points by carrying or passing the ball into the opponent's end zone. It's one of the most popular sports in the world, with passionate fans and intense competition at all levels.\n",
            "\n",
            "**Gameplay:**\n",
            "\n",
            "* The game is played in four quarters, each lasting 15 minutes.\n",
            "* Each team has four downs to gain at least 10 yards to advance the ball.\n",
            "* The team with the most points at the end of the game wins.\n",
            "\n",
            "**Positions:**\n",
            "\n",
            "Football features various positions, each with specific roles and responsibilities. Some key positions include:\n",
            "\n",
            "* **Quarterback:** Leads the offense and calls the plays.\n",
            "* **Running back:** Carries the ball and catches passes.\n",
            "* **Wide receiver:** Catches passes from the quarterback.\n",
            "* **Tight end:** Blocks defenders and catches passes.\n",
            "* **Linebacker:** Tackles the ball carrier or passes.\n",
            "\n",
            "**Rules:**\n",
            "\n",
            "Football is a complex game with many rules to ensure fair play. These rules cover everything from illegal contact to signaling penalties.\n",
            "\n",
            "**Popularity:**\n",
            "\n",
            "Football is immensely popular in many countries, including the United States, Canada, and parts of Europe and Latin America. It generates enormous revenue and creates a strong sense of community.\n",
            "\n",
            "**Impact:**\n",
            "\n",
            "Football has a significant impact on society, influencing culture, generating jobs, and inspiring fan loyalty. It also serves as a platform for social and political expression.\n",
            "\n",
            "**Some interesting facts about football:**\n",
            "\n",
            "* It is the most-watched sport on television in the US.\n",
            "* The Super Bowl is the most-watched sporting event in the world.\n",
            "* Football players are among the highest-paid athletes in the world.\n",
            "\n",
            "**Variations:**\n",
            "\n",
            "Football has numerous variations played around the world, including:\n",
            "\n",
            "* **American Football:** Played in the US and Canada.\n",
            "* **Canadian Football:** Played in Canada and the US.\n",
            "* **Rugby Football:** Played in many countries worldwide.\n",
            "* **Australian Football:** Played in Australia and other parts of Oceania.\n",
            "\n",
            "**Conclusion:**\n",
            "\n",
            "Football is a dynamic and exciting sport with a rich history and passionate fanbase. Its physicality, strategy, and entertainment value make it one of the most compelling sports in the world.\n"
          ]
        }
      ],
      "source": [
        "answer = \"tell me about football\"  # Assuming 'answer' is a string\n",
        "result = chain.invoke(answer)\n",
        "print(result)\n"
      ]
    },
    {
      "cell_type": "code",
      "execution_count": null,
      "metadata": {
        "id": "9Vr2QpGyeNym"
      },
      "outputs": [],
      "source": [
        "model = ChatGroq(api_key = GROQ_API_KEY,model_name = ' llama3-8b-8192')"
      ]
    },
    {
      "cell_type": "code",
      "execution_count": null,
      "metadata": {
        "id": "WDGUiSijeNym",
        "outputId": "752e3184-8ec7-4a00-d90d-9726ed2db29d"
      },
      "outputs": [
        {
          "name": "stdout",
          "output_type": "stream",
          "text": [
            "## Football: A Gridiron Saga\n",
            "\n",
            "Football is a contact sport played by two teams of eleven players each. The goal is to score more points than the opposing team by carrying or passing the ball into the end zone. \n",
            "\n",
            "**Gameplay:**\n",
            "\n",
            "* The game is played on a rectangular field with end zones at each end.\n",
            "* Each team has four downs to gain at least 10 yards to advance to the next down.\n",
            "* The offense attempts to score points by carrying or passing the ball into the end zone.\n",
            "* The defense tries to prevent the offense from scoring points and to score points for their team.\n",
            "\n",
            "**Positions:**\n",
            "\n",
            "Football has various positions on both offense and defense, each with specific roles and responsibilities. \n",
            "\n",
            "**Some notable positions:**\n",
            "\n",
            "* **Offense:** Quarterback, Running back, Wide receiver, Tight end, Center, Offensive lineman\n",
            "* **Defense:** Lineman, Linebacker, Safety, Cornerback, Defensive tackle, Defensive end\n",
            "\n",
            "**Scoring:**\n",
            "\n",
            "* Touchdown: 6 points\n",
            "* Extra point: 1 point\n",
            "* Field goal: 3 points\n",
            "\n",
            "**Popularity:**\n",
            "\n",
            "Football is incredibly popular in the United States and globally. \n",
            "\n",
            "* High school football is a tradition in many communities.\n",
            "* College football boasts passionate fanbases and generates significant revenue.\n",
            "* The National Football League (NFL) is one of the most-watched sports leagues in the world.\n",
            "\n",
            "**Impact:**\n",
            "\n",
            "Football teaches valuable lessons about teamwork, discipline, and physical fitness. It also generates significant economic benefits for communities and creates a sense of pride and identity.\n",
            "\n",
            "**Notable aspects:**\n",
            "\n",
            "* **Physicality:** Football is a contact sport with high physicality, demanding exceptional athleticism and resilience from players.\n",
            "* **Strategy:** The game requires complex strategies and teamwork to succeed.\n",
            "* **Drama:** Football is filled with intense moments, dramatic plays, and emotional reactions from fans.\n",
            "\n",
            "**Conclusion:**\n",
            "\n",
            "Football is a captivating and competitive sport with a rich history and passionate following. Its physicality, strategy, and entertainment value make it one of the most popular sports in the world.\n"
          ]
        }
      ],
      "source": [
        "answer = \"tell me about football\"  # Assuming 'answer' is a string\n",
        "result = chain.invoke(answer)\n",
        "print(result)\n"
      ]
    },
    {
      "cell_type": "code",
      "execution_count": null,
      "metadata": {
        "id": "qG2O0luzeNym"
      },
      "outputs": [],
      "source": [
        "model = ChatGroq(api_key = GROQ_API_KEY,model_name = 'mixtral-8x7b-32768')"
      ]
    },
    {
      "cell_type": "code",
      "execution_count": null,
      "metadata": {
        "id": "gi39w1gmeNyn",
        "outputId": "97d982c8-565f-4aee-e857-1f5f6ce6199b"
      },
      "outputs": [
        {
          "name": "stdout",
          "output_type": "stream",
          "text": [
            "## Football: The Gridiron Game\n",
            "\n",
            "Football is a contact sport played between two teams of eleven players each. The objective of the game is to score more points than the opponent. Points are scored by carrying or passing the ball into the opponent's end zone, or by kicking field goals.\n",
            "\n",
            "**Gameplay:**\n",
            "\n",
            "* The game is played on a rectangular field with end zones at each end.\n",
            "* Each team has four downs to gain at least 10 yards to advance down the field.\n",
            "* The offense attempts to score points by carrying or passing the ball into the end zone, while the defense tries to prevent the offense from scoring.\n",
            "* The game clock stops after each play, and the team with the most points at the end of the game wins.\n",
            "\n",
            "**Positions:**\n",
            "\n",
            "There are many different positions in football, each with specific roles and responsibilities. Some of the most important positions include:\n",
            "\n",
            "**Offense:**\n",
            "\n",
            "* Quarterback: Leads the offense and makes the play calls.\n",
            "* Running back: Carries the ball and catches passes.\n",
            "* Wide receiver: Catches passes from the quarterback.\n",
            "* Tight end: Blocks defenders and catches passes.\n",
            "\n",
            "**Defense:**\n",
            "\n",
            "* Defensive tackle: Blocks offensive linemen and tackles ball carriers.\n",
            "* Linebacker: Tackles ball carriers and passes.\n",
            "* Safety: Protects the end zones and tackles ball carriers.\n",
            "* Cornerback: Covers wide receivers and intercepts passes.\n",
            "\n",
            "**Rules:**\n",
            "\n",
            "Football has a complex set of rules and penalties. Some of the most important rules include:\n",
            "\n",
            "* No holding: Grabbing or tackling an opponent without the ball.\n",
            "* Pass interference: Contacting a receiver during a pass attempt.\n",
            "* Roughing the passer: Penalizing the defense for illegal contact with the quarterback.\n",
            "\n",
            "**Popularity:**\n",
            "\n",
            "Football is one of the most popular sports in the world, with millions of fans globally. The National Football League (NFL) is the most popular professional league in the United States.\n",
            "\n",
            "**Fascination:**\n",
            "\n",
            "Football is more than just a game. It's a cultural phenomenon that captures the imagination of fans with its drama, intensity, and strategy.\n"
          ]
        }
      ],
      "source": [
        "answer = \"tell me about football\"  # Assuming 'answer' is a string\n",
        "result = chain.invoke(answer)\n",
        "print(result)\n"
      ]
    }
  ],
  "metadata": {
    "kernelspec": {
      "display_name": "Python 3",
      "language": "python",
      "name": "python3"
    },
    "language_info": {
      "codemirror_mode": {
        "name": "ipython",
        "version": 3
      },
      "file_extension": ".py",
      "mimetype": "text/x-python",
      "name": "python",
      "nbconvert_exporter": "python",
      "pygments_lexer": "ipython3",
      "version": "3.12.4"
    },
    "colab": {
      "provenance": []
    }
  },
  "nbformat": 4,
  "nbformat_minor": 0
}